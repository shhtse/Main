{
 "cells": [
  {
   "cell_type": "code",
   "execution_count": 1,
   "id": "3f343871",
   "metadata": {
    "scrolled": true
   },
   "outputs": [
    {
     "data": {
      "text/plain": [
       "-89.57999999999996"
      ]
     },
     "execution_count": 1,
     "metadata": {},
     "output_type": "execute_result"
    }
   ],
   "source": [
    "# For CIBC online banking\n",
    "fhand = open('New Text Document.txt')\n",
    "pay = []\n",
    "for i in fhand:\n",
    "    i = i.strip()\n",
    "    if '$' in i:\n",
    "        a = i.find('$')\n",
    "        if i[a-1] == '’':\n",
    "            pay.append(-(float(i[a+1:])))\n",
    "        else:\n",
    "            pay.append((float(i[a+1:])))\n",
    "sum(pay)"
   ]
  },
  {
   "cell_type": "markdown",
   "id": "25a8a083",
   "metadata": {},
   "source": [
    "-402.62"
   ]
  },
  {
   "cell_type": "code",
   "execution_count": 22,
   "id": "6c17f106",
   "metadata": {},
   "outputs": [
    {
     "ename": "UnicodeDecodeError",
     "evalue": "'charmap' codec can't decode byte 0x9d in position 15: character maps to <undefined>",
     "output_type": "error",
     "traceback": [
      "\u001b[1;31m---------------------------------------------------------------------------\u001b[0m",
      "\u001b[1;31mUnicodeDecodeError\u001b[0m                        Traceback (most recent call last)",
      "Input \u001b[1;32mIn [22]\u001b[0m, in \u001b[0;36m<cell line: 4>\u001b[1;34m()\u001b[0m\n\u001b[0;32m      2\u001b[0m fhand \u001b[38;5;241m=\u001b[39m \u001b[38;5;28mopen\u001b[39m(\u001b[38;5;124m'\u001b[39m\u001b[38;5;124mNew Text Document.txt\u001b[39m\u001b[38;5;124m'\u001b[39m)\n\u001b[0;32m      3\u001b[0m pay \u001b[38;5;241m=\u001b[39m []\n\u001b[1;32m----> 4\u001b[0m \u001b[38;5;28;01mfor\u001b[39;00m i \u001b[38;5;129;01min\u001b[39;00m fhand:\n\u001b[0;32m      5\u001b[0m     \u001b[38;5;28mprint\u001b[39m(i)\n",
      "File \u001b[1;32m~\\anaconda3\\lib\\encodings\\cp1252.py:23\u001b[0m, in \u001b[0;36mIncrementalDecoder.decode\u001b[1;34m(self, input, final)\u001b[0m\n\u001b[0;32m     22\u001b[0m \u001b[38;5;28;01mdef\u001b[39;00m \u001b[38;5;21mdecode\u001b[39m(\u001b[38;5;28mself\u001b[39m, \u001b[38;5;28minput\u001b[39m, final\u001b[38;5;241m=\u001b[39m\u001b[38;5;28;01mFalse\u001b[39;00m):\n\u001b[1;32m---> 23\u001b[0m     \u001b[38;5;28;01mreturn\u001b[39;00m \u001b[43mcodecs\u001b[49m\u001b[38;5;241;43m.\u001b[39;49m\u001b[43mcharmap_decode\u001b[49m\u001b[43m(\u001b[49m\u001b[38;5;28;43minput\u001b[39;49m\u001b[43m,\u001b[49m\u001b[38;5;28;43mself\u001b[39;49m\u001b[38;5;241;43m.\u001b[39;49m\u001b[43merrors\u001b[49m\u001b[43m,\u001b[49m\u001b[43mdecoding_table\u001b[49m\u001b[43m)\u001b[49m[\u001b[38;5;241m0\u001b[39m]\n",
      "\u001b[1;31mUnicodeDecodeError\u001b[0m: 'charmap' codec can't decode byte 0x9d in position 15: character maps to <undefined>"
     ]
    }
   ],
   "source": [
    "# For CIBC statement\n",
    "fhand = open('New Text Document.txt')\n",
    "pay = []\n",
    "for i in fhand:\n",
    "    print(i)"
   ]
  },
  {
   "cell_type": "code",
   "execution_count": 16,
   "id": "859caddd",
   "metadata": {},
   "outputs": [
    {
     "name": "stdout",
     "output_type": "stream",
     "text": [
      "skeeg rof skeeg\n"
     ]
    }
   ],
   "source": [
    "word = 'geeks for geeks'\n",
    "print(word[::-1])"
   ]
  },
  {
   "cell_type": "code",
   "execution_count": 4,
   "id": "1c927c1d",
   "metadata": {},
   "outputs": [
    {
     "name": "stdout",
     "output_type": "stream",
     "text": [
      "[]\n",
      "0\n"
     ]
    }
   ],
   "source": [
    "# BMO\n",
    "fhand = open('New Text Document.txt')\n",
    "pay = []\n",
    "for i in fhand:\n",
    "    i = i.strip()\n",
    "    if '$' in i and len(i) < 12 :\n",
    "        pay.append(i)\n",
    "    if 'Eligible' in i:\n",
    "        a = i.find('$')\n",
    "        pay.append(i[a:])\n",
    "for i in range(len(pay)):\n",
    "    pay[i] = pay[i].replace(',', '')\n",
    "    pay[i] = pay[i].replace('$', '')\n",
    "    if '+' in pay[i]:\n",
    "        pay[i] = pay[i].replace('+', '')\n",
    "        pay[i] = pay[i].strip()\n",
    "        pay[i] = float(pay[i])\n",
    "    else:\n",
    "        pay[i] = -float(pay[i])\n",
    "print(pay)\n",
    "print(sum(pay))"
   ]
  },
  {
   "cell_type": "code",
   "execution_count": null,
   "id": "8142e7f2",
   "metadata": {},
   "outputs": [],
   "source": []
  }
 ],
 "metadata": {
  "kernelspec": {
   "display_name": "Python 3 (ipykernel)",
   "language": "python",
   "name": "python3"
  },
  "language_info": {
   "codemirror_mode": {
    "name": "ipython",
    "version": 3
   },
   "file_extension": ".py",
   "mimetype": "text/x-python",
   "name": "python",
   "nbconvert_exporter": "python",
   "pygments_lexer": "ipython3",
   "version": "3.9.12"
  }
 },
 "nbformat": 4,
 "nbformat_minor": 5
}
