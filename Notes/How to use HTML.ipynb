{
 "cells": [
  {
   "cell_type": "markdown",
   "id": "49a9fa8a",
   "metadata": {},
   "source": [
    "<!DOCTYPE html>\n",
    "<html>\n",
    "    <head>\n",
    "        <!-- The purpose to use metatag is for google to seach this website-->\n",
    "        <meta charset=\"UTF-8\">\n",
    "        <meta name=\"description\" content=\"This is a website\">\n",
    "        <title>Title of your website that shows on the bar of your browser</title>\n",
    "    </head>\n",
    "    <body style=\"background-color:green;\">\n",
    "        <header>\n",
    "            <nav>\n",
    "            <!--comment-->\n",
    "            </nav>\n",
    "        </header>\n",
    "        <main>\n",
    "            <article>\n",
    "                <section>\n",
    "                    <aside>\n",
    "                    </aside>\n",
    "                </section>\n",
    "            </article>\n",
    "            <h1>Leagerest header</h1>\n",
    "            <h6>smallest header</h6>\n",
    "            <hr/>\n",
    "            <br/><br/>\n",
    "            <p><b><i><small>paragraph</small></i></b></p>\n",
    "            <p>H<sub>2</sub>O</p>\n",
    "            <p>10<sup>2</sup></p>\n",
    "            <p style=\"color:#00FFFF; background-color:#198964;\">Text</p>\n",
    "            <a href=\"https://www.google.com\"></a>\n",
    "            <a href=\"https://www.google.com\" target=\"_blank\">google</a>\n",
    "            <a href=\"a/4.jpg\">pic</a>\n",
    "            <img width=\"100\" src=\"https://na.cx/i/jbibo0U.png\"/>\n",
    "            <a href=\"https://lihkg.com/thread/2648381/page/1\" target=\"_blank\">\n",
    "                <img width=\"100\" src=\"https://na.cx/i/jbibo0U.png\"/>\n",
    "            </a>\n",
    "            <img src=\"https://na.cx/i/jbib0U.png\" alt=\"屌那星，原來凍奶茶有咁奢侈嘅飲法 | LIHKG\"/>\n",
    "            <video src\"a.mp4\" poster=\"https://na.cx/i/jbibo0U.png\" loop controls width=\"100\"></vide>\n",
    "            <iframe width=\"560\" height=\"315\" src=\"https://www.youtube.com/embed/pQN-pnXPaVg\" title=\"YouTube video player\" frameborder=\"0\" allow=\"accelerometer; autoplay; clipboard-write; encrypted-media; gyroscope; picture-in-picture\" allowfullscreen></iframe>\n",
    "        </main>\n",
    "        <footer>\n",
    "        </footer>\n",
    "    </body>\n",
    "    \n",
    "</html>"
   ]
  },
  {
   "cell_type": "markdown",
   "id": "bbf2fc58",
   "metadata": {},
   "source": [
    "<ul>\n",
    "    <li><a href='#'>point1</a></li>\n",
    "    <li>point2</li>\n",
    "</ul>\n",
    "<ol>\n",
    "    <li><a href='#'>point1</a></li>\n",
    "    <li>point2</li>\n",
    "</ol>\n",
    "<dl>\n",
    "    <dt>point1</dt>\n",
    "    <dd>point1.1</dd>\n",
    "</dl>\n",
    "<span>span</span><span>span</span>\n",
    "<div>div</div><div>div</div>"
   ]
  },
  {
   "cell_type": "markdown",
   "id": "cbb1148a",
   "metadata": {},
   "source": [
    "<table>\n",
    "    <thead>\n",
    "        <caption>Table caption</caption>\n",
    "        <tr>\n",
    "            <th>col1</th>\n",
    "            <th>col2</th>\n",
    "            <th>col3</th>\n",
    "        </tr>\n",
    "    </thead>\n",
    "    <tbody>\n",
    "    <tr>\n",
    "        <td colspan=\"2\">one</td>\n",
    "        <td>two</td>\n",
    "        <td>three</td>\n",
    "    </tr>\n",
    "    <tr>\n",
    "        <td>four</td>\n",
    "        <td>five</td>\n",
    "        <td>six</td>\n",
    "    </tr>\n",
    "    </tbody>\n",
    "</table>"
   ]
  },
  {
   "cell_type": "markdown",
   "id": "e6053b20",
   "metadata": {},
   "source": [
    "<input type=\"text\"/>\n",
    "<input type=\"password\"/>\n",
    "<textarea rows=\"10\" cols=\"30\">text</textarea>\n",
    "<input type=\"date\"/>\n",
    "<input type=\"file\"/>\n",
    "<input type=\"checkbox\"/>\n",
    "<input type=\"radio\"/>\n",
    "<input name=\"a\" type=\"radio\"/>\n",
    "<input type=\"submit\"/>"
   ]
  },
  {
   "cell_type": "markdown",
   "id": "dd7678b6",
   "metadata": {},
   "source": [
    "<iframe src=\"https://lihkg.com/category/1\" frameborder=\"0\" width=\"1000\">Lihkg</iframe>"
   ]
  },
  {
   "cell_type": "code",
   "execution_count": null,
   "id": "2510b957",
   "metadata": {},
   "outputs": [],
   "source": []
  }
 ],
 "metadata": {
  "kernelspec": {
   "display_name": "Python 3 (ipykernel)",
   "language": "python",
   "name": "python3"
  },
  "language_info": {
   "codemirror_mode": {
    "name": "ipython",
    "version": 3
   },
   "file_extension": ".py",
   "mimetype": "text/x-python",
   "name": "python",
   "nbconvert_exporter": "python",
   "pygments_lexer": "ipython3",
   "version": "3.9.12"
  }
 },
 "nbformat": 4,
 "nbformat_minor": 5
}
