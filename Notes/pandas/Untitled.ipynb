{
 "cells": [
  {
   "cell_type": "code",
   "execution_count": 16,
   "id": "61994f95",
   "metadata": {},
   "outputs": [
    {
     "name": "stdout",
     "output_type": "stream",
     "text": [
      "Alice     True\n",
      "Bob       True\n",
      "David    False\n",
      "dtype: bool\n"
     ]
    }
   ],
   "source": [
    "import pandas as pd\n",
    "pd.__version__\n",
    "\n",
    "s = {'Alice':165,'Bob':172,'Cherry':158}\n",
    "Name = ['Alice','Bob','David']\n",
    "Ser = pd.Series(s,index = Name)\n",
    "print(Ser.notnull())"
   ]
  },
  {
   "cell_type": "code",
   "execution_count": 41,
   "id": "49e3af24",
   "metadata": {},
   "outputs": [
    {
     "name": "stdout",
     "output_type": "stream",
     "text": [
      "        Height  Gender\n",
      "Alice     1.65  Female\n",
      "Bob       1.72    Male\n",
      "Cherry    1.52  Female\n",
      "Index(['Alice', 'Bob', 'Cherry'], dtype='object')\n"
     ]
    }
   ],
   "source": [
    "Student_info = pd.DataFrame({'Height':[1.65,1.72,1.52],\n",
    "                            'Gender':['Female','Male','Female']},index = ['Alice','Bob','Cherry'])\n",
    "print(Student_info)\n",
    "print(Student_info.index)"
   ]
  },
  {
   "cell_type": "code",
   "execution_count": 43,
   "id": "4c6276d1",
   "metadata": {},
   "outputs": [
    {
     "ename": "SyntaxError",
     "evalue": "invalid syntax (<ipython-input-43-23a4cf1791e4>, line 1)",
     "output_type": "error",
     "traceback": [
      "\u001b[0;36m  File \u001b[0;32m\"<ipython-input-43-23a4cf1791e4>\"\u001b[0;36m, line \u001b[0;32m1\u001b[0m\n\u001b[0;31m    pd.DataFrame(+)\u001b[0m\n\u001b[0m                  ^\u001b[0m\n\u001b[0;31mSyntaxError\u001b[0m\u001b[0;31m:\u001b[0m invalid syntax\n"
     ]
    }
   ],
   "source": [
    "pd.DataFrame(+)"
   ]
  },
  {
   "cell_type": "code",
   "execution_count": 45,
   "id": "86368a96",
   "metadata": {},
   "outputs": [],
   "source": [
    "pd.DataFrame?"
   ]
  }
 ],
 "metadata": {
  "kernelspec": {
   "display_name": "Python 3 (ipykernel)",
   "language": "python",
   "name": "python3"
  },
  "language_info": {
   "codemirror_mode": {
    "name": "ipython",
    "version": 3
   },
   "file_extension": ".py",
   "mimetype": "text/x-python",
   "name": "python",
   "nbconvert_exporter": "python",
   "pygments_lexer": "ipython3",
   "version": "3.9.12"
  }
 },
 "nbformat": 4,
 "nbformat_minor": 5
}
