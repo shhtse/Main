{
 "cells": [
  {
   "cell_type": "code",
   "execution_count": null,
   "id": "a2f54127",
   "metadata": {},
   "outputs": [],
   "source": [
    "## Is dictionary key mutable in python?\n",
    "words = ['apple', 'bat', 'bar', 'atom', 'book']\n",
    "by_letter = {}\n",
    "def mut_test(a):\n",
    "    for i in a:\n",
    "        by_letter.setdefault(i[0],[]).append(i)\n",
    "    return by_letter\n",
    "mut_test(words)\n",
    "print(by_letter)\n",
    "\n",
    "## Can I rename 'a' to 'aa' ?\n",
    "##Ask prof"
   ]
  },
  {
   "cell_type": "code",
   "execution_count": null,
   "id": "4f6aff96",
   "metadata": {},
   "outputs": [],
   "source": [
    "##Difference between get and setdefault\n",
    "\n",
    "#They have the same result\n",
    "d1 = {'a': ['apple', 'atom'], 'b': ['bat', 'bar', 'book']}\n",
    "d1.setdefault('a')\n",
    "d1.setdefault('c')\n",
    "d1.get('a')\n",
    "d1.get('c')\n",
    "\n",
    "#It returns True\n",
    "by_letter = {'a': ['apple', 'atom'], 'b': ['bat', 'bar', 'book']}\n",
    "print(by_letter.setdefault('a',[]))\n",
    "print(by_letter.get('a',[]))\n",
    "by_letter.setdefault('a',[]) is by_letter.get('a',[])\n",
    "\n",
    "#Setdefault works but not get\n",
    "words = ['apple', 'bat', 'bar', 'atom', 'book']\n",
    "by_letter = {}\n",
    "for word in words:\n",
    "    by_letter.setdefault(word[0],[]).append(word)\n",
    "print(by_letter)\n",
    "\n",
    "words = ['apple', 'bat', 'bar', 'atom', 'book']\n",
    "by_letter = {}\n",
    "for word in words:\n",
    "    by_letter.get(word[0],[]).append(word)\n",
    "print(by_letter)\n",
    "\n",
    "##Ask prof"
   ]
  },
  {
   "cell_type": "code",
   "execution_count": null,
   "id": "a7f286e0",
   "metadata": {},
   "outputs": [],
   "source": [
    "set1 = {1,2,3}\n",
    "a = set1.discard(2)\n",
    "print(set1)\n",
    "\n",
    "#a has been done automatically\n",
    "\n",
    "set1 = {1,2,3}\n",
    "a = set1.discard(2)\n",
    "set1.add(2)\n",
    "a\n",
    "print(set1)\n",
    "\n",
    "#a has not been done"
   ]
  }
 ],
 "metadata": {
  "kernelspec": {
   "display_name": "Python 3 (ipykernel)",
   "language": "python",
   "name": "python3"
  },
  "language_info": {
   "codemirror_mode": {
    "name": "ipython",
    "version": 3
   },
   "file_extension": ".py",
   "mimetype": "text/x-python",
   "name": "python",
   "nbconvert_exporter": "python",
   "pygments_lexer": "ipython3",
   "version": "3.9.12"
  }
 },
 "nbformat": 4,
 "nbformat_minor": 5
}
