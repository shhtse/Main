{
 "cells": [
  {
   "cell_type": "markdown",
   "id": "5481b018",
   "metadata": {},
   "source": [
    "Markdown Cheat Sheet\n",
    "A quick reference to the Markdown syntax.\n",
    "https://www.markdownguide.org/cheat-sheet/"
   ]
  },
  {
   "cell_type": "markdown",
   "id": "992d0e89",
   "metadata": {},
   "source": [
    "<font color=blue>Heading</font>\n",
    "# Heading\n",
    "\n",
    "Restart and clear\n",
    "\n",
    "Restart and run"
   ]
  },
  {
   "cell_type": "code",
   "execution_count": 6,
   "id": "02829507",
   "metadata": {},
   "outputs": [
    {
     "name": "stdout",
     "output_type": "stream",
     "text": [
      "CPU times: user 3 µs, sys: 0 ns, total: 3 µs\n",
      "Wall time: 6.2 µs\n"
     ]
    }
   ],
   "source": [
    "%lsmagic\n",
    "%time\n",
    "#calculate the time needed"
   ]
  },
  {
   "cell_type": "markdown",
   "id": "dc07a6db",
   "metadata": {},
   "source": [
    "</p>paragraph</p>\n",
    "\n",
    "    </p>How to write html code without being excuted</p>\n",
    "\n",
    "paragraph\n",
    "\n",
    "Text\n",
    "\n",
    "*Text*\n",
    "_Text_\n",
    "\n",
    "**Text**\n",
    "__Text__\n",
    "\n",
    "***Text***\n",
    "___Text___\n",
    "\n",
    "T**extt**ext\n",
    "T__extt__ext\n",
    "\n",
    "+ point\n",
    "- point\n",
    "* point\n",
    "\n",
    "1. point\n",
    "2. point\n",
    "4. point\n",
    "\n",
    ">point\n",
    ">>point\n",
    "\n",
    "[屌那星，原來凍奶茶有咁奢侈嘅飲法](https://lihkg.com/thread/2648381/page/1)\n",
    "\n",
    "![lihkg](https://na.cx/i/jbibo0U.png)\n",
    "\n",
    "***\n",
    "___\n",
    "---\n",
    "<shhtse@connect.ust.hk>"
   ]
  }
 ],
 "metadata": {
  "kernelspec": {
   "display_name": "Python 3 (ipykernel)",
   "language": "python",
   "name": "python3"
  },
  "language_info": {
   "codemirror_mode": {
    "name": "ipython",
    "version": 3
   },
   "file_extension": ".py",
   "mimetype": "text/x-python",
   "name": "python",
   "nbconvert_exporter": "python",
   "pygments_lexer": "ipython3",
   "version": "3.9.12"
  }
 },
 "nbformat": 4,
 "nbformat_minor": 5
}
