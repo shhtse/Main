{
 "cells": [
  {
   "cell_type": "code",
   "execution_count": 1,
   "id": "3f343871",
   "metadata": {
    "scrolled": true
   },
   "outputs": [
    {
     "data": {
      "text/plain": [
       "-89.57999999999996"
      ]
     },
     "execution_count": 1,
     "metadata": {},
     "output_type": "execute_result"
    }
   ],
   "source": [
    "# For CIBC online banking\n",
    "fhand = open('New Text Document.txt')\n",
    "pay = []\n",
    "for i in fhand:\n",
    "    i = i.strip()\n",
    "    if '$' in i:\n",
    "        a = i.find('$')\n",
    "        if i[a-1] == '’':\n",
    "            pay.append(-(float(i[a+1:])))\n",
    "        else:\n",
    "            pay.append((float(i[a+1:])))\n",
    "sum(pay)"
   ]
  },
  {
   "cell_type": "markdown",
   "id": "25a8a083",
   "metadata": {},
   "source": [
    "-402.62"
   ]
  },
  {
   "cell_type": "code",
   "execution_count": 4,
   "id": "1c927c1d",
   "metadata": {},
   "outputs": [
    {
     "name": "stdout",
     "output_type": "stream",
     "text": [
      "[]\n",
      "0\n"
     ]
    }
   ],
   "source": [
    "# BMO\n",
    "fhand = open('New Text Document.txt')\n",
    "pay = []\n",
    "for i in fhand:\n",
    "    i = i.strip()\n",
    "    if '$' in i and len(i) < 12 :\n",
    "        pay.append(i)\n",
    "    if 'Eligible' in i:\n",
    "        a = i.find('$')\n",
    "        pay.append(i[a:])\n",
    "for i in range(len(pay)):\n",
    "    pay[i] = pay[i].replace(',', '')\n",
    "    pay[i] = pay[i].replace('$', '')\n",
    "    if '+' in pay[i]:\n",
    "        pay[i] = pay[i].replace('+', '')\n",
    "        pay[i] = pay[i].strip()\n",
    "        pay[i] = float(pay[i])\n",
    "    else:\n",
    "        pay[i] = -float(pay[i])\n",
    "print(pay)\n",
    "print(sum(pay))"
   ]
  },
  {
   "cell_type": "code",
   "execution_count": null,
   "id": "8142e7f2",
   "metadata": {},
   "outputs": [],
   "source": []
  }
 ],
 "metadata": {
  "kernelspec": {
   "display_name": "Python 3 (ipykernel)",
   "language": "python",
   "name": "python3"
  },
  "language_info": {
   "codemirror_mode": {
    "name": "ipython",
    "version": 3
   },
   "file_extension": ".py",
   "mimetype": "text/x-python",
   "name": "python",
   "nbconvert_exporter": "python",
   "pygments_lexer": "ipython3",
   "version": "3.9.12"
  }
 },
 "nbformat": 4,
 "nbformat_minor": 5
}
